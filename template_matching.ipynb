{
 "cells": [
  {
   "cell_type": "code",
   "execution_count": null,
   "id": "9e2832bb",
   "metadata": {},
   "outputs": [],
   "source": [
    "import cv2\n",
    "import numpy as np\n",
    "inp = cv2.imread('./images/9-ro.jpeg')\n",
    "tem = cv2.imread('./images/template.png')\n",
    "a = cv2.cvtColor(inp, cv2.COLOR_BGR2GRAY)\n",
    "b = cv2.cvtColor(tem, cv2.COLOR_BGR2GRAY)"
   ]
  },
  {
   "cell_type": "code",
   "execution_count": null,
   "id": "1fd6995e",
   "metadata": {},
   "outputs": [],
   "source": [
    "h_a, w_a = a.shape\n",
    "h_b, w_b = b.shape"
   ]
  },
  {
   "cell_type": "code",
   "execution_count": null,
   "id": "d2bf6656",
   "metadata": {},
   "outputs": [],
   "source": [
    "def correlation(input, template):\n",
    "    a_ = input.flatten()\n",
    "    b_ = template.flatten()\n",
    "    return np.dot(np.array(a_, dtype=np.uint64), np.array(b_, dtype=np.uint64))"
   ]
  },
  {
   "cell_type": "code",
   "execution_count": null,
   "id": "5c383c78",
   "metadata": {},
   "outputs": [],
   "source": [
    "height = (h_a - h_b) + 1\n",
    "width = (w_a - w_b) + 1\n",
    "result = np.ones((height, width), dtype=np.uint64)\n",
    "count = 0\n",
    "thresh_hold = 1\n",
    "for i in range(result.shape[0]):\n",
    "    for j in range(result.shape[1]):\n",
    "        result[i][j] = correlation(a[i:i+h_b, j:j+w_b], b)"
   ]
  },
  {
   "cell_type": "code",
   "execution_count": null,
   "id": "83a01fdb",
   "metadata": {},
   "outputs": [],
   "source": [
    "max = result.max()\n",
    "min = result.min()\n",
    "result = (result - min) / (max - min)"
   ]
  },
  {
   "cell_type": "code",
   "execution_count": null,
   "id": "e916a085",
   "metadata": {},
   "outputs": [],
   "source": [
    "(y_points, x_points) = np.where(result >= thresh_hold)\n",
    "boxes = []\n",
    "for (x, y) in zip(x_points, y_points):\n",
    "    boxes.append((x, y, x + w_b, y + h_b))\n",
    "for (x1, y1, x2, y2) in boxes:\n",
    "    cv2.rectangle(inp, (x1, y1), (x2, y2),\n",
    "                  (255, 0, 0), 1)\n",
    "cv2.imshow(\"After NMS\", inp)\n",
    "cv2.waitKey(0)\n"
   ]
  },
  {
   "cell_type": "code",
   "execution_count": null,
   "id": "bcc2eb97",
   "metadata": {},
   "outputs": [],
   "source": []
  }
 ],
 "metadata": {
  "kernelspec": {
   "display_name": "Python 3.10.6 ('CS231')",
   "language": "python",
   "name": "python3"
  },
  "language_info": {
   "codemirror_mode": {
    "name": "ipython",
    "version": 3
   },
   "file_extension": ".py",
   "mimetype": "text/x-python",
   "name": "python",
   "nbconvert_exporter": "python",
   "pygments_lexer": "ipython3",
   "version": "3.10.6"
  },
  "vscode": {
   "interpreter": {
    "hash": "f64ea7f9324c90c0326e3ad8efc96b60df5ddd5b5c70977066e1b75b4848aaed"
   }
  }
 },
 "nbformat": 4,
 "nbformat_minor": 5
}
